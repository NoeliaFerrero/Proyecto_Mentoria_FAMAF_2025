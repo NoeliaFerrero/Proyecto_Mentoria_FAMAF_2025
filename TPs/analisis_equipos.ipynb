{
 "cells": [
  {
   "cell_type": "markdown",
   "metadata": {},
   "source": [
    "# Análisis y Formación de Equipos Balanceados\n",
    "\n",
    "Este notebook contiene el código completo para analizar datos de estudiantes y proponer una distribución óptima en dos equipos balanceados, considerando habilidades técnicas y comunicativas."
   ]
  },
  {
   "cell_type": "markdown",
   "metadata": {},
   "source": [
    "## 1. Configuración del Entorno\n",
    "\n",
    "Importamos las librerías necesarias para el análisis."
   ]
  },
  {
   "cell_type": "code",
   "execution_count": null,
   "metadata": {},
   "source": [
    "import pandas as pd\n",
    "import numpy as np\n",
    "import matplotlib.pyplot as plt\n",
    "import seaborn as sns\n",
    "import os\n",
    "\n",
    "# Configurar estilo de visualización\n",
    "plt.style.use('seaborn-v0_8-whitegrid')\n",
    "plt.rcParams['figure.figsize'] = (12, 8)\n",
    "plt.rcParams['font.size'] = 12\n",
    "\n",
    "# Configurar visualización de todas las columnas\n",
    "pd.set_option('display.max_columns', None)"
   ]
  },
  {
   "cell_type": "markdown",
   "metadata": {},
   "source": [
    "## 2. Carga y Exploración de Datos\n",
    "\n",
    "Cargamos los datos desde el archivo Excel y exploramos su estructura."
   ]
  },
  {
   "cell_type": "code",
   "execution_count": null,
   "metadata": {},
   "source": [
    "# Cargar el archivo Excel - Ajusta la ruta según donde tengas el archivo\n",
    "file_path = 'TeamBuilding_Famaf_2025.xlsx'\n",
    "\n",
    "# Leer la primera hoja del archivo\n",
    "df = pd.read_excel(file_path, sheet_name=0)\n",
    "\n",
    "# Mostrar información básica del dataframe\n",
    "print('Información del DataFrame:')\n",
    "print(df.info())\n",
    "print('\\nPrimeras filas del DataFrame:')\n",
    "display(df.head())\n",
    "print('\\nEstadísticas descriptivas:')\n",
    "display(df.describe())"
   ]
  },
  {
   "cell_type": "markdown",
   "metadata": {},
   "source": [
    "## 3. Limpieza y Preparación de Datos\n",
    "\n",
    "Limpiamos los datos y preparamos el DataFrame para el análisis."
   ]
  },
  {
   "cell_type": "code",
   "execution_count": null,
   "metadata": {},
   "source": [
    "# Limpiar los nombres de las columnas para facilitar su uso\n",
    "df.columns = [col.strip() for col in df.columns]\n",
    "\n",
    "# Renombrar columnas para facilitar su uso\n",
    "df = df.rename(columns={\n",
    "    'Uso Github?': 'Github',\n",
    "    'Habilidades c/Herram. de Presentacion? (Ej. Canva, Power Point, Goggle Slides, etc)': 'Presentacion',\n",
    "    'otras...(Ej. VSCode, MLFlow, Streamlit, etc)': 'Herramientas_Tecnicas'\n",
    "})\n",
    "\n",
    "# Filtrar filas con datos completos de habilidades\n",
    "df_complete = df.dropna(subset=['Github', 'Presentacion', 'Herramientas_Tecnicas', 'Nombre'])\n",
    "\n",
    "# Mostrar información de los estudiantes con datos completos\n",
    "print('Estudiantes con datos completos de habilidades:')\n",
    "display(df_complete[['Nombre', 'Github', 'Presentacion', 'Herramientas_Tecnicas', 'Experiencia previa en proyectos similares (Sí / No)']])"
   ]
  },
  {
   "cell_type": "markdown",
   "metadata": {},
   "source": [
    "## 4. Análisis Estadístico de Habilidades\n",
    "\n",
    "Analizamos la distribución de habilidades entre los estudiantes."
   ]
  },
  {
   "cell_type": "code",
   "execution_count": null,
   "metadata": {},
   "source": [
    "# Análisis estadístico de las habilidades\n",
    "print('Estadísticas de habilidades:')\n",
    "display(df_complete[['Github', 'Presentacion', 'Herramientas_Tecnicas']].describe())\n",
    "\n",
    "# Identificar niveles de habilidad por estudiante\n",
    "print('\\nNiveles de habilidad por estudiante:')\n",
    "for idx, row in df_complete.iterrows():\n",
    "    print(f\"Estudiante: {row['Nombre']}:\")\n",
    "    print(f\"  - Github: {row['Github']}\")\n",
    "    print(f\"  - Presentación: {row['Presentacion']}\")\n",
    "    print(f\"  - Herramientas Técnicas: {row['Herramientas_Tecnicas']}\")\n",
    "    print(f\"  - Experiencia previa: {row['Experiencia previa en proyectos similares (Sí / No)']}\")\n",
    "    print()"
   ]
  },
  {
   "cell_type": "markdown",
   "metadata": {},
   "source": [
    "## 5. Visualización de Habilidades\n",
    "\n",
    "Generamos visualizaciones para entender mejor la distribución de habilidades."
   ]
  },
  {
   "cell_type": "code",
   "execution_count": null,
   "metadata": {},
   "source": [
    "# 1. Gráfico de barras para comparar habilidades entre estudiantes\n",
    "plt.figure(figsize=(14, 8))\n",
    "df_skills = df_complete[['Nombre', 'Github', 'Presentacion', 'Herramientas_Tecnicas']]\n",
    "df_skills_melted = pd.melt(df_skills, id_vars=['Nombre'], \n",
    "                          value_vars=['Github', 'Presentacion', 'Herramientas_Tecnicas'],\n",
    "                          var_name='Habilidad', value_name='Nivel')\n",
    "\n",
    "# Crear gráfico de barras agrupadas\n",
    "sns.barplot(x='Nombre', y='Nivel', hue='Habilidad', data=df_skills_melted)\n",
    "plt.title('Comparación de Habilidades por Estudiante', fontsize=16)\n",
    "plt.xlabel('Estudiante', fontsize=14)\n",
    "plt.ylabel('Nivel de Habilidad (1-5)', fontsize=14)\n",
    "plt.xticks(rotation=45, ha='right')\n",
    "plt.legend(title='Tipo de Habilidad')\n",
    "plt.tight_layout()\n",
    "plt.show()"
   ]
  },
  {
   "cell_type": "code",
   "execution_count": null,
   "metadata": {},
   "source": [
    "# 2. Gráfico de radar para cada estudiante\n",
    "def create_radar_chart(student_data, student_name):\n",
    "    # Preparar datos para el gráfico de radar\n",
    "    categories = ['Github', 'Presentacion', 'Herramientas_Tecnicas']\n",
    "    values = student_data[categories].values.flatten().tolist()\n",
    "    \n",
    "    # Número de variables\n",
    "    N = len(categories)\n",
    "    \n",
    "    # Ángulos para cada eje\n",
    "    angles = [n / float(N) * 2 * np.pi for n in range(N)]\n",
    "    angles += angles[:1]  # Cerrar el polígono\n",
    "    \n",
    "    # Valores para cada eje\n",
    "    values += values[:1]  # Cerrar el polígono\n",
    "    \n",
    "    # Crear figura\n",
    "    fig, ax = plt.subplots(figsize=(8, 8), subplot_kw=dict(polar=True))\n",
    "    \n",
    "    # Dibujar polígono\n",
    "    ax.plot(angles, values, linewidth=2, linestyle='solid')\n",
    "    ax.fill(angles, values, alpha=0.25)\n",
    "    \n",
    "    # Etiquetas\n",
    "    ax.set_xticks(angles[:-1])\n",
    "    ax.set_xticklabels(categories)\n",
    "    \n",
    "    # Configurar límites del eje y\n",
    "    ax.set_ylim(0, 5)\n",
    "    \n",
    "    # Título\n",
    "    plt.title(f'Perfil de Habilidades: {student_name}', size=15, y=1.1)\n",
    "    \n",
    "    plt.tight_layout()\n",
    "    plt.show()\n",
    "\n",
    "# Generar un gráfico de radar para cada estudiante\n",
    "for idx, row in df_complete.iterrows():\n",
    "    student_name = row['Nombre']\n",
    "    create_radar_chart(row, student_name)"
   ]
  },
  {
   "cell_type": "code",
   "execution_count": null,
   "metadata": {},
   "source": [
    "# 3. Gráfico de distribución de habilidades en todo el grupo\n",
    "plt.figure(figsize=(10, 6))\n",
    "sns.boxplot(data=df_complete[['Github', 'Presentacion', 'Herramientas_Tecnicas']])\n",
    "plt.title('Distribución de Habilidades en el Grupo', fontsize=16)\n",
    "plt.ylabel('Nivel de Habilidad (1-5)', fontsize=14)\n",
    "plt.grid(True, linestyle='--', alpha=0.7)\n",
    "plt.tight_layout()\n",
    "plt.show()"
   ]
  },
  {
   "cell_type": "code",
   "execution_count": null,
   "metadata": {},
   "source": [
    "# 4. Mapa de calor de habilidades\n",
    "plt.figure(figsize=(12, 8))\n",
    "heatmap_data = df_complete.set_index('Nombre')[['Github', 'Presentacion', 'Herramientas_Tecnicas']]\n",
    "sns.heatmap(heatmap_data, annot=True, cmap='YlGnBu', linewidths=.5, fmt='.1f')\n",
    "plt.title('Mapa de Calor de Habilidades por Estudiante', fontsize=16)\n",
    "plt.tight_layout()\n",
    "plt.show()"
   ]
  },
  {
   "cell_type": "code",
   "execution_count": null,
   "metadata": {},
   "source": [
    "# 5. Gráfico de dispersión para visualizar relaciones entre habilidades\n",
    "plt.figure(figsize=(10, 8))\n",
    "sns.scatterplot(x='Github', y='Presentacion', size='Herramientas_Tecnicas', \n",
    "                sizes=(100, 500), data=df_complete, alpha=0.7)\n",
    "\n",
    "# Añadir nombres de estudiantes como etiquetas\n",
    "for idx, row in df_complete.iterrows():\n",
    "    plt.annotate(row['Nombre'], (row['Github'], row['Presentacion']), \n",
    "                 xytext=(5, 5), textcoords='offset points')\n",
    "\n",
    "plt.title('Relación entre Habilidades Técnicas y de Presentación', fontsize=16)\n",
    "plt.xlabel('Nivel de Github (1-5)', fontsize=14)\n",
    "plt.ylabel('Nivel de Presentación (1-5)', fontsize=14)\n",
    "plt.grid(True, linestyle='--', alpha=0.7)\n",
    "plt.tight_layout()\n",
    "plt.show()"
   ]
  },
  {
   "cell_type": "markdown",
   "metadata": {},
   "source": [
    "## 6. Algoritmo para Proponer Equipos Balanceados\n",
    "\n",
    "Implementamos el algoritmo para distribuir a los estudiantes en equipos balanceados."
   ]
  },
  {
   "cell_type": "code",
   "execution_count": null,
   "metadata": {},
   "source": [
    "# Calcular puntaje total por estudiante\n",
    "df_complete['Total'] = df_complete['Github'] + df_complete['Presentacion'] + df_complete['Herramientas_Tecnicas']\n",
    "\n",
    "# Crear una función para proponer equipos balanceados\n",
    "def propose_balanced_teams(students_df):\n",
    "    # Crear una copia para no modificar el original\n",
    "    df_copy = students_df.copy()\n",
    "    \n",
    "    # Calcular puntaje técnico (Github + Herramientas_Tecnicas)\n",
    "    df_copy['Tech_Score'] = df_copy['Github'] + df_copy['Herramientas_Tecnicas']\n",
    "    df_copy['Comm_Score'] = df_copy['Presentacion']\n",
    "    \n",
    "    # Ordenar por puntaje técnico de mayor a menor\n",
    "    tech_sorted = df_copy.sort_values('Tech_Score', ascending=False).reset_index(drop=True)\n",
    "    \n",
    "    # Inicializar equipos\n",
    "    team1 = []\n",
    "    team2 = []\n",
    "    \n",
    "    # Distribuir estudiantes alternando entre equipos (serpenteo)\n",
    "    for i in range(len(tech_sorted)):\n",
    "        if i % 2 == 0:\n",
    "            team1.append(tech_sorted.iloc[i])\n",
    "        else:\n",
    "            team2.append(tech_sorted.iloc[i])\n",
    "    \n",
    "    # Convertir a DataFrames\n",
    "    team1_df = pd.DataFrame(team1).reset_index(drop=True)\n",
    "    team2_df = pd.DataFrame(team2).reset_index(drop=True)\n",
    "    \n",
    "    return team1_df, team2_df\n",
    "\n",
    "# Proponer equipos\n",
    "team1, team2 = propose_balanced_teams(df_complete)\n",
    "\n",
    "# Mostrar los equipos propuestos\n",
    "print('EQUIPO 1:')\n",
    "display(team1[['Nombre', 'Github', 'Presentacion', 'Herramientas_Tecnicas', 'Tech_Score', 'Comm_Score', 'Total', 'Experiencia previa en proyectos similares (Sí / No)']])\n",
    "\n",
    "print('\\nEQUIPO 2:')\n",
    "display(team2[['Nombre', 'Github', 'Presentacion', 'Herramientas_Tecnicas', 'Tech_Score', 'Comm_Score', 'Total', 'Experiencia previa en proyectos similares (Sí / No)']])"
   ]
  },
  {
   "cell_type": "markdown",
   "metadata": {},
   "source": [
    "## 7. Validación del Balance de Equipos\n",
    "\n",
    "Calculamos estadísticas para validar el balance entre los equipos."
   ]
  },
  {
   "cell_type": "code",
   "execution_count": null,
   "metadata": {},
   "source": [
    "# Calcular estadísticas de los equipos\n",
    "def calculate_team_stats(team_df):\n",
    "    stats = {\n",
    "        'Github_avg': team_df['Github'].mean(),\n",
    "        'Presentacion_avg': team_df['Presentacion'].mean(),\n",
    "        'Herramientas_Tecnicas_avg': team_df['Herramientas_Tecnicas'].mean(),\n",
    "        'Tech_Score_avg': team_df['Tech_Score'].mean(),\n",
    "        'Comm_Score_avg': team_df['Comm_Score'].mean(),\n",
    "        'Total_avg': team_df['Total'].mean()\n",
    "    }\n",
    "    return stats\n",
    "\n",
    "team1_stats = calculate_team_stats(team1)\n",
    "team2_stats = calculate_team_stats(team2)\n",
    "\n",
    "# Mostrar estadísticas de los equipos\n",
    "print('Estadísticas Equipo 1:')\n",
    "for key, value in team1_stats.items():\n",
    "    print(f'{key}: {value:.2f}')\n",
    "\n",
    "print('\\nEstadísticas Equipo 2:')\n",
    "for key, value in team2_stats.items():\n",
    "    print(f'{key}: {value:.2f}')\n",
    "\n",
    "# Comparar estadísticas entre equipos\n",
    "print('\\nCOMPARACIÓN DE EQUIPOS:')\n",
    "for key in team1_stats.keys():\n",
    "    diff = abs(team1_stats[key] - team2_stats[key])\n",
    "    print(f'Diferencia en {key}: {diff:.2f}')"
   ]
  },
  {
   "cell_type": "code",
   "execution_count": null,
   "metadata": {},
   "source": [
    "# Visualizar comparación de equipos\n",
    "# Preparar datos para visualización\n",
    "team_comparison = pd.DataFrame({\n",
    "    'Habilidad': ['Github', 'Presentacion', 'Herramientas_Tecnicas', 'Tech_Score', 'Comm_Score', 'Total'],\n",
    "    'Equipo 1': [team1_stats['Github_avg'], team1_stats['Presentacion_avg'], \n",
    "                team1_stats['Herramientas_Tecnicas_avg'], team1_stats['Tech_Score_avg'],\n",
    "                team1_stats['Comm_Score_avg'], team1_stats['Total_avg']],\n",
    "    'Equipo 2': [team2_stats['Github_avg'], team2_stats['Presentacion_avg'], \n",
    "                team2_stats['Herramientas_Tecnicas_avg'], team2_stats['Tech_Score_avg'],\n",
    "                team2_stats['Comm_Score_avg'], team2_stats['Total_avg']]\n",
    "})\n",
    "\n",
    "# Convertir a formato largo para seaborn\n",
    "team_comparison_melted = pd.melt(team_comparison, id_vars=['Habilidad'], \n",
    "                                value_vars=['Equipo 1', 'Equipo 2'],\n",
    "                                var_name='Equipo', value_name='Promedio')\n",
    "\n",
    "# Crear gráfico de barras comparativas\n",
    "plt.figure(figsize=(12, 8))\n",
    "sns.barplot(x='Habilidad', y='Promedio', hue='Equipo', data=team_comparison_melted)\n",
    "plt.title('Comparación de Habilidades entre Equipos', fontsize=16)\n",
    "plt.xlabel('Tipo de Habilidad', fontsize=14)\n",
    "plt.ylabel('Promedio', fontsize=14)\n",
    "plt.grid(True, linestyle='--', alpha=0.7)\n",
    "plt.xticks(rotation=45)\n",
    "plt.tight_layout()\n",
    "plt.show()"
   ]
  },
  {
   "cell_type": "code",
   "execution_count": null,
   "metadata": {},
   "source": [
    "# Generar un gráfico de radar para comparar los equipos\n",
    "def create_team_radar_chart():\n",
    "    # Preparar datos para el gráfico de radar\n",
    "    categories = ['Github', 'Presentacion', 'Herramientas_Tecnicas']\n",
    "    \n",
    "    team1_values = [team1[cat].mean() for cat in categories]\n",
    "    team2_values = [team2[cat].mean() for cat in categories]\n",
    "    \n",
    "    # Número de variables\n",
    "    N = len(categories)\n",
    "    \n",
    "    # Ángulos para cada eje\n",
    "    angles = [n / float(N) * 2 * np.pi for n in range(N)]\n",
    "    \n",
    "    # Cerrar el polígono repitiendo el primer valor\n",
    "    team1_values += team1_values[:1]\n",
    "    team2_values += team2_values[:1]\n",
    "    angles += angles[:1]\n",
    "    \n",
    "    # Crear figura\n",
    "    fig, ax = plt.subplots(figsize=(10, 10), subplot_kw=dict(polar=True))\n",
    "    \n",
    "    # Dibujar polígonos\n",
    "    ax.plot(angles, team1_values, linewidth=2, linestyle='solid', label='Equipo 1')\n",
    "    ax.fill(angles, team1_values, alpha=0.25)\n",
    "    \n",
    "    ax.plot(angles, team2_values, linewidth=2, linestyle='solid', label='Equipo 2')\n",
    "    ax.fill(angles, team2_values, alpha=0.25)\n",
    "    \n",
    "    # Etiquetas\n",
    "    ax.set_xticks(angles[:-1])\n",
    "    ax.set_xticklabels(categories)\n",
    "    \n",
    "    # Configurar límites del eje y\n",
    "    ax.set_ylim(0, 5)\n",
    "    \n",
    "    # Título y leyenda\n",
    "    plt.title('Comparación de Habilidades entre Equipos', size=15, y=1.1)\n",
    "    plt.legend(loc='upper right')\n",
    "    \n",
    "    plt.tight_layout()\n",
    "    plt.show()\n",
    "\n",
    "# Generar gráfico de radar para comparación de equipos\n",
    "create_team_radar_chart()"
   ]
  },
  {
   "cell_type": "markdown",
   "metadata": {},
   "source": [
    "## 8. Análisis de Fortalezas y Áreas de Mejora\n",
    "\n",
    "Identificamos las fortalezas y áreas de mejora de cada equipo."
   ]
  },
  {
   "cell_type": "code",
   "execution_count": null,
   "metadata": {},
   "source": [
    "# Análisis de experiencia previa en cada equipo\n",
    "print('Análisis de experiencia previa:')\n",
    "print('Equipo 1:')\n",
    "display(team1[['Nombre', 'Experiencia previa en proyectos similares (Sí / No)']])\n",
    "print('\\nEquipo 2:')\n",
    "display(team2[['Nombre', 'Experiencia previa en proyectos similares (Sí / No)']])"
   ]
  },
  {
   "cell_type": "markdown",
   "metadata": {},
   "source": [
    "## 9. Conclusiones y Recomendaciones\n",
    "\n",
    "Presentamos las conclusiones y recomendaciones basadas en el análisis."
   ]
  },
  {
   "cell_type": "markdown",
   "metadata": {},
   "source": [
    "### Fortalezas del Equipo 1\n",
    "\n",
    "- Cuenta con Manuel Lopez Werlen, quien tiene alto nivel tanto en Github (5) como en Herramientas Técnicas (4).\n",
    "- Tiene a Ayelen Margarita Bertorello, la única estudiante con experiencia previa en proyectos similares.\n",
    "- Buen nivel promedio en habilidades de presentación (3.5).\n",
    "\n",
    "### Áreas de Mejora del Equipo 1\n",
    "\n",
    "- Tres de los cuatro integrantes tienen nivel bajo (1) en Github, dependiendo principalmente de un solo miembro para esta habilidad.\n",
    "\n",
    "### Fortalezas del Equipo 2\n",
    "\n",
    "- Cuenta con Julian Rametta, quien tiene un perfil equilibrado en todas las habilidades (Github: 5, Presentación: 3, Herramientas Técnicas: 3).\n",
    "- Excelente nivel en habilidades de presentación (promedio 3.75), con dos miembros en nivel 5.\n",
    "\n",
    "### Áreas de Mejora del Equipo 2\n",
    "\n",
    "- Ningún integrante tiene experiencia previa en proyectos similares.\n",
    "- Tres de los cuatro integrantes tienen nivel bajo (1) en Github, dependiendo principalmente de un solo miembro para esta habilidad.\n",
    "\n",
    "### Recomendaciones\n",
    "\n",
    "1. **Capacitación en Github**: Dado que la mayoría de los estudiantes tienen un nivel bajo en Github (6 de 8 con nivel 1), se recomienda realizar una capacitación inicial en esta herramienta para todos los equipos.\n",
    "\n",
    "2. **Mentorías cruzadas**: Aprovechar a los estudiantes con niveles altos en ciertas habilidades para que compartan conocimientos con sus compañeros:\n",
    "   - Manuel Lopez Werlen y Julian Rametta pueden liderar sesiones sobre Github y herramientas técnicas.\n",
    "   - Mirna Hughes y Eloy Moyano pueden compartir sus conocimientos sobre presentaciones efectivas.\n",
    "   - Ayelen Margarita Bertorello puede compartir su experiencia previa en proyectos similares con ambos equipos.\n",
    "\n",
    "3. **Seguimiento periódico**: Implementar revisiones periódicas del avance de los equipos para identificar posibles desequilibrios o dificultades que puedan surgir durante el desarrollo del proyecto."
   ]
  },
  {
   "cell_type": "markdown",
   "metadata": {},
   "source": [
    "## 10. Conclusión Final\n",
    "\n",
    "La distribución propuesta logra un equilibrio notable entre ambos equipos en términos de habilidades técnicas y comunicativas, con diferencias mínimas en los promedios de cada habilidad. Esta configuración permite que cada equipo tenga acceso a un conjunto diverso de habilidades, facilitando el desarrollo integral del proyecto de ciencia de datos end-to-end.\n",
    "\n",
    "Aunque existen algunas brechas, particularmente en la experiencia previa y en el dominio de Github, las recomendaciones propuestas buscan mitigar estas limitaciones y promover un ambiente de aprendizaje colaborativo entre los estudiantes."
   ]
  }
 ],
 "metadata": {
  "kernelspec": {
   "display_name": "Python 3",
   "language": "python",
   "name": "python3"
  },
  "language_info": {
   "codemirror_mode": {
    "name": "ipython",
    "version": 3
   },
   "file_extension": ".py",
   "mimetype": "text/x-python",
   "name": "python",
   "nbconvert_exporter": "python",
   "pygments_lexer": "ipython3",
   "version": "3.11.0"
  }
 },
 "nbformat": 4,
 "nbformat_minor": 4
}
